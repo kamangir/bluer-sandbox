{
 "cells": [
  {
   "attachments": {},
   "cell_type": "markdown",
   "metadata": {},
   "source": [
    "# 🌀 anagram"
   ]
  },
  {
   "cell_type": "code",
   "execution_count": 1,
   "metadata": {},
   "outputs": [
    {
     "name": "stderr",
     "output_type": "stream",
     "text": [
      "🌀  bluer_sandbox-5.204.1.bluer_ai-12.253.1.bluer_objects-6.241.1.bluer_options-5.162.1.torch-2.2.2.Python 3.12.9.Darwin 23.6.0..Jupyter-Notebook,\n",
      "built on 04 August 2025, 20:07:07\n"
     ]
    }
   ],
   "source": [
    "from bluer_options import string\n",
    "\n",
    "from bluer_sandbox.host import signature\n",
    "from bluer_sandbox.interview.anagram import normalize_and_group_and_analyze\n",
    "from bluer_sandbox.tests.test_anagram_groups import words\n",
    "from bluer_sandbox.logger import logger\n",
    "\n",
    "logger.info(f\"{'.'.join(signature())},\\nbuilt on {string.pretty_date()}\")"
   ]
  },
  {
   "attachments": {},
   "cell_type": "markdown",
   "metadata": {},
   "source": [
    "---"
   ]
  },
  {
   "cell_type": "code",
   "execution_count": 2,
   "metadata": {},
   "outputs": [
    {
     "name": "stderr",
     "output_type": "stream",
     "text": [
      "🌀  processing the words: Evil, Vile, Live, veil, Stone, tones, Notes, listen, Silent, enlist, 12345, stone!, stop, pots, post\n",
      "🌀  normalized to: evil, vile, live, veil, stone, tones, notes, listen, silent, enlist, stop, pots, post\n",
      "🌀  groups {'evil': ['evil', 'vile', 'live', 'veil'], 'stone': ['stone', 'tones', 'notes'], 'listen': ['listen', 'silent', 'enlist'], 'stop': ['stop', 'pots', 'post']}\n",
      "🌀  Total groups: 4\n",
      "🌀  Average group size: 3.25\n",
      "🌀  Largest group (size 4): [evil, vile, live, veil]\n",
      "🌀  Anagram groups:\n",
      "🌀  [evil, vile, live, veil]\n",
      "🌀  [stone, tones, notes]\n",
      "🌀  [listen, silent, enlist]\n",
      "🌀  [stop, pots, post]\n"
     ]
    }
   ],
   "source": [
    "normalize_and_group_and_analyze(words)"
   ]
  },
  {
   "attachments": {},
   "cell_type": "markdown",
   "metadata": {},
   "source": [
    "---"
   ]
  },
  {
   "cell_type": "code",
   "execution_count": 3,
   "metadata": {},
   "outputs": [],
   "source": [
    "# END"
   ]
  }
 ],
 "metadata": {
  "kernelspec": {
   "display_name": "base",
   "language": "python",
   "name": "python3"
  },
  "language_info": {
   "codemirror_mode": {
    "name": "ipython",
    "version": 3
   },
   "file_extension": ".py",
   "mimetype": "text/x-python",
   "name": "python",
   "nbconvert_exporter": "python",
   "pygments_lexer": "ipython3",
   "version": "3.12.9"
  },
  "toc": {
   "base_numbering": 1,
   "nav_menu": {},
   "number_sections": true,
   "sideBar": true,
   "skip_h1_title": false,
   "title_cell": "Table of Contents",
   "title_sidebar": "Contents",
   "toc_cell": false,
   "toc_position": {},
   "toc_section_display": true,
   "toc_window_display": false
  }
 },
 "nbformat": 4,
 "nbformat_minor": 2
}
