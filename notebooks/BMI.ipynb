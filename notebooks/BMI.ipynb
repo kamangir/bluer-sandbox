{
 "cells": [
  {
   "attachments": {},
   "cell_type": "markdown",
   "metadata": {},
   "source": [
    "# 🌀 BMI"
   ]
  },
  {
   "cell_type": "code",
   "execution_count": null,
   "metadata": {},
   "outputs": [
    {
     "name": "stderr",
     "output_type": "stream",
     "text": [
      "🌀  bluer_sandbox-5.96.1.bluer_ai-12.144.1.bluer_objects-6.129.1.bluer_options-5.99.1.torch-2.2.2.Python 3.12.9.Darwin 23.6.0..Jupyter-Notebook,\n",
      "built on 20 May 2025, 21:07:13\n"
     ]
    }
   ],
   "source": [
    "from typing import Tuple\n",
    "\n",
    "from bluer_sandbox import notebooks\n",
    "\n",
    "from bluer_options import string\n",
    "from bluer_objects.metadata import get_from_object\n",
    "\n",
    "from bluer_sandbox.host import signature\n",
    "from bluer_sandbox.logger import logger\n",
    "\n",
    "logger.info(f\"{'.'.join(signature())},\\nbuilt on {string.pretty_date()}\")"
   ]
  },
  {
   "attachments": {},
   "cell_type": "markdown",
   "metadata": {},
   "source": [
    "---"
   ]
  },
  {
   "cell_type": "code",
   "execution_count": 2,
   "metadata": {},
   "outputs": [],
   "source": [
    "object_name = \"BMI-data-v1\"\n",
    "log = False"
   ]
  },
  {
   "cell_type": "code",
   "execution_count": 3,
   "metadata": {},
   "outputs": [],
   "source": [
    "def calculate_bmi(\n",
    "        name: str,\n",
    "        weight_kg: float,\n",
    "        height_m: float,\n",
    "        log:bool=True,\n",
    "    ) -> Tuple[float, str]:\n",
    "    bmi = weight_kg / (height_m ** 2)\n",
    "    \n",
    "    diagnosis: str = \"\"\n",
    "    if bmi < 18.5:\n",
    "        diagnosis = \"underweight\"\n",
    "    elif 18.5 <= bmi < 25:\n",
    "        diagnosis = \"normal\"\n",
    "    elif 25 <= bmi < 30:\n",
    "        diagnosis = \"overweight\"\n",
    "    else:\n",
    "        diagnosis = \"extreme overweight\"\n",
    "\n",
    "    if log:\n",
    "        logger.info(f\"{name}: BMI={bmi:.1f}, {diagnosis}\")\n",
    "\n",
    "    return bmi, diagnosis\n"
   ]
  },
  {
   "cell_type": "code",
   "execution_count": 4,
   "metadata": {},
   "outputs": [
    {
     "name": "stderr",
     "output_type": "stream",
     "text": [
      "🌀  loaded 8 person(s).\n"
     ]
    }
   ],
   "source": [
    "dict_of_persons = get_from_object(object_name, \"persons\", {})\n",
    "\n",
    "logger.info(f\"loaded {len(dict_of_persons)} person(s).\")"
   ]
  },
  {
   "cell_type": "code",
   "execution_count": 5,
   "metadata": {},
   "outputs": [],
   "source": [
    "for person_name, person_info in dict_of_persons.items():\n",
    "    person_info[\"bmi\"], person_info[\"diagnosis\"] = calculate_bmi(\n",
    "        name=person_name,\n",
    "        weight_kg=person_info[\"weight\"],\n",
    "        height_m=person_info[\"height\"],\n",
    "        log=log,\n",
    "    )"
   ]
  },
  {
   "attachments": {},
   "cell_type": "markdown",
   "metadata": {},
   "source": [
    "---"
   ]
  },
  {
   "cell_type": "code",
   "execution_count": 6,
   "metadata": {},
   "outputs": [],
   "source": [
    "# END"
   ]
  }
 ],
 "metadata": {
  "kernelspec": {
   "display_name": "base",
   "language": "python",
   "name": "python3"
  },
  "language_info": {
   "codemirror_mode": {
    "name": "ipython",
    "version": 3
   },
   "file_extension": ".py",
   "mimetype": "text/x-python",
   "name": "python",
   "nbconvert_exporter": "python",
   "pygments_lexer": "ipython3",
   "version": "3.12.9"
  },
  "toc": {
   "base_numbering": 1,
   "nav_menu": {},
   "number_sections": true,
   "sideBar": true,
   "skip_h1_title": false,
   "title_cell": "Table of Contents",
   "title_sidebar": "Contents",
   "toc_cell": false,
   "toc_position": {},
   "toc_section_display": true,
   "toc_window_display": false
  }
 },
 "nbformat": 4,
 "nbformat_minor": 2
}
